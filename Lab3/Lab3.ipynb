{
 "cells": [
  {
   "cell_type": "markdown",
   "id": "5abd3bd4-3bbb-4245-bcb4-cd3305991df8",
   "metadata": {},
   "source": [
    "## Konfigurowanie środowiska "
   ]
  },
  {
   "cell_type": "markdown",
   "id": "06a7b056-b609-49da-ae55-9e5b2c19ea0c",
   "metadata": {},
   "source": [
    "Aby uruchomić pyspark na komputerze lokalnym, instalujemy Javye oraz odpowiednim Winutils.exe \n",
    "następnie instalujemy pyspark i Py4J."
   ]
  },
  {
   "cell_type": "code",
   "execution_count": 1,
   "id": "ffe4c1f4-de5c-4fc7-9531-7062f0d9fa2a",
   "metadata": {},
   "outputs": [
    {
     "name": "stdout",
     "output_type": "stream",
     "text": [
      "Requirement already satisfied: pyspark in c:\\users\\ricoss\\anaconda3\\lib\\site-packages (3.3.1)\n",
      "Requirement already satisfied: py4j in c:\\users\\ricoss\\anaconda3\\lib\\site-packages (0.10.9.5)\n"
     ]
    }
   ],
   "source": [
    "# Polecenie do zainstalowania powyższych pakietów:\n",
    "\n",
    "! pip install pyspark py4j "
   ]
  },
  {
   "cell_type": "markdown",
   "id": "62d45efc-c636-40c3-9d82-79e158c89317",
   "metadata": {},
   "source": [
    "## Tworzenie SparkSession\n",
    "\n",
    "\n",
    "Przykładowa sesjia SparkSession:"
   ]
  },
  {
   "cell_type": "code",
   "execution_count": 2,
   "id": "2e93e318-a6e9-4416-92c7-b512a858c7b0",
   "metadata": {},
   "outputs": [],
   "source": [
    "from pyspark.sql import SparkSession\n",
    "\n",
    "spark = SparkSession.builder\\\n",
    "        .master(\"local[*]\")\\\n",
    "        .appName('PySpark_Tutorial')\\\n",
    "        .getOrCreate()\n"
   ]
  },
  {
   "cell_type": "markdown",
   "id": "7871f26d-0445-4ce2-946f-9427e7facf55",
   "metadata": {},
   "source": [
    "## Czytanie danych"
   ]
  },
  {
   "cell_type": "code",
   "execution_count": 3,
   "id": "1cd797e3-3b58-4d1a-9b5c-cd1cef0091ea",
   "metadata": {},
   "outputs": [],
   "source": [
    "\n",
    "csv_file = 'Dane.csv'\n",
    "df = spark.read.csv(csv_file)"
   ]
  },
  {
   "cell_type": "markdown",
   "id": "8e251d7b-a9e1-48ef-af68-ba16f0a5b323",
   "metadata": {},
   "source": [
    "## Pobieranie danych za pomocą URL"
   ]
  },
  {
   "cell_type": "code",
   "execution_count": 4,
   "id": "58070f1d-a92f-4b8d-89a3-e79c8e9cda30",
   "metadata": {},
   "outputs": [],
   "source": [
    "from pyspark import SparkFiles\n",
    "\n",
    "spark.sparkContext.addFile('https://storage.covid19datahub.io/level/1.csv')\n",
    "\n",
    "\n",
    "df = spark.read.csv(SparkFiles.get(\"1.csv\"), header=True)\n"
   ]
  },
  {
   "cell_type": "markdown",
   "id": "9d0d97ef-1271-40d4-a1f8-a7e1149253f8",
   "metadata": {},
   "source": [
    "# Strukturyzacja danych za pomocą schematu Spark"
   ]
  },
  {
   "cell_type": "markdown",
   "id": "da39e04a-9f1d-4cf4-a5d2-300e48b98ccb",
   "metadata": {},
   "source": [
    "Odczyt danych w formacie pliku CSV:"
   ]
  },
  {
   "cell_type": "code",
   "execution_count": 5,
   "id": "31283be5-09cb-4ec0-a0ec-d7c4d3fbc874",
   "metadata": {},
   "outputs": [
    {
     "name": "stdout",
     "output_type": "stream",
     "text": [
      "root\n",
      " |-- location_id: string (nullable = true)\n",
      " |-- location_name: string (nullable = true)\n",
      " |-- iso3: string (nullable = true)\n",
      " |-- level: string (nullable = true)\n",
      " |-- year: string (nullable = true)\n",
      " |-- the_total_mean: string (nullable = true)\n",
      " |-- the_total_lower: string (nullable = true)\n",
      " |-- the_total_upper: string (nullable = true)\n",
      " |-- the_total_ppp_mean: string (nullable = true)\n",
      " |-- the_total_ppp_lower: string (nullable = true)\n",
      " |-- the_total_ppp_upper: string (nullable = true)\n",
      " |-- ghes_total_mean: string (nullable = true)\n",
      " |-- ghes_total_lower: string (nullable = true)\n",
      " |-- ghes_total_upper: string (nullable = true)\n",
      " |-- ghes_total_ppp_mean: string (nullable = true)\n",
      " |-- ghes_total_ppp_lower: string (nullable = true)\n",
      " |-- ghes_total_ppp_upper: string (nullable = true)\n",
      " |-- ppp_total_mean: string (nullable = true)\n",
      " |-- ppp_total_lower: string (nullable = true)\n",
      " |-- ppp_total_upper: string (nullable = true)\n",
      " |-- ppp_total_ppp_mean: string (nullable = true)\n",
      " |-- ppp_total_ppp_lower: string (nullable = true)\n",
      " |-- ppp_total_ppp_upper: string (nullable = true)\n",
      " |-- oop_total_mean: string (nullable = true)\n",
      " |-- oop_total_lower: string (nullable = true)\n",
      " |-- oop_total_upper: string (nullable = true)\n",
      " |-- oop_total_ppp_mean: string (nullable = true)\n",
      " |-- oop_total_ppp_lower: string (nullable = true)\n",
      " |-- oop_total_ppp_upper: string (nullable = true)\n",
      " |-- dah_total_mean: string (nullable = true)\n",
      " |-- dah_total_ppp_mean: string (nullable = true)\n",
      " |-- the_per_cap_mean: string (nullable = true)\n",
      " |-- the_per_cap_lower: string (nullable = true)\n",
      " |-- the_per_cap_upper: string (nullable = true)\n",
      " |-- the_per_cap_ppp_mean: string (nullable = true)\n",
      " |-- the_per_cap_ppp_lower: string (nullable = true)\n",
      " |-- the_per_cap_ppp_upper: string (nullable = true)\n",
      " |-- ghes_per_cap_mean: string (nullable = true)\n",
      " |-- ghes_per_cap_lower: string (nullable = true)\n",
      " |-- ghes_per_cap_upper: string (nullable = true)\n",
      " |-- ghes_per_cap_ppp_mean: string (nullable = true)\n",
      " |-- ghes_per_cap_ppp_lower: string (nullable = true)\n",
      " |-- ghes_per_cap_ppp_upper: string (nullable = true)\n",
      " |-- ppp_per_cap_mean: string (nullable = true)\n",
      " |-- ppp_per_cap_lower: string (nullable = true)\n",
      " |-- ppp_per_cap_upper: string (nullable = true)\n",
      " |-- ppp_per_cap_ppp_mean: string (nullable = true)\n",
      " |-- ppp_per_cap_ppp_lower: string (nullable = true)\n",
      " |-- ppp_per_cap_ppp_upper: string (nullable = true)\n",
      " |-- oop_per_cap_mean: string (nullable = true)\n",
      " |-- oop_per_cap_lower: string (nullable = true)\n",
      " |-- oop_per_cap_upper: string (nullable = true)\n",
      " |-- oop_per_cap_ppp_mean: string (nullable = true)\n",
      " |-- oop_per_cap_ppp_lower: string (nullable = true)\n",
      " |-- oop_per_cap_ppp_upper: string (nullable = true)\n",
      " |-- dah_per_cap_mean: string (nullable = true)\n",
      " |-- dah_per_cap_ppp_mean: string (nullable = true)\n",
      " |-- ghes_per_the_mean: string (nullable = true)\n",
      " |-- ghes_per_the_lower: string (nullable = true)\n",
      " |-- ghes_per_the_upper: string (nullable = true)\n",
      " |-- ppp_per_the_mean: string (nullable = true)\n",
      " |-- ppp_per_the_lower: string (nullable = true)\n",
      " |-- ppp_per_the_upper: string (nullable = true)\n",
      " |-- oop_per_the_mean: string (nullable = true)\n",
      " |-- oop_per_the_lower: string (nullable = true)\n",
      " |-- oop_per_the_upper: string (nullable = true)\n",
      " |-- dah_per_the_mean: string (nullable = true)\n",
      " |-- dah_per_the_lower: string (nullable = true)\n",
      " |-- dah_per_the_upper: string (nullable = true)\n",
      " |-- the_per_gdp_mean: string (nullable = true)\n",
      " |-- the_per_gdp_lower: string (nullable = true)\n",
      " |-- the_per_gdp_upper: string (nullable = true)\n",
      " |-- ghes_per_gdp_mean: string (nullable = true)\n",
      " |-- ghes_per_gdp_lower: string (nullable = true)\n",
      " |-- ghes_per_gdp_upper: string (nullable = true)\n",
      " |-- ppp_per_gdp_mean: string (nullable = true)\n",
      " |-- ppp_per_gdp_lower: string (nullable = true)\n",
      " |-- ppp_per_gdp_upper: string (nullable = true)\n",
      " |-- oop_per_gdp_mean: string (nullable = true)\n",
      " |-- oop_per_gdp_lower: string (nullable = true)\n",
      " |-- oop_per_gdp_upper: string (nullable = true)\n",
      " |-- dah_per_gdp_mean: string (nullable = true)\n",
      " |-- dah_per_gdp_lower: string (nullable = true)\n",
      " |-- dah_per_gdp_upper: string (nullable = true)\n",
      "\n"
     ]
    }
   ],
   "source": [
    "data = spark.read.csv(\n",
    "    'Dane.csv',\n",
    "    sep=',',\n",
    "    header=True,\n",
    ")\n",
    "\n",
    "data.printSchema()"
   ]
  },
  {
   "cell_type": "markdown",
   "id": "6eef2c2d-5a49-474c-86b5-ed017c9bddda",
   "metadata": {},
   "source": [
    "Tworzenie nowej struktury danych:"
   ]
  },
  {
   "cell_type": "code",
   "execution_count": 6,
   "id": "b5081df2-8950-4b56-bb7f-5b413b6913bd",
   "metadata": {},
   "outputs": [
    {
     "name": "stdout",
     "output_type": "stream",
     "text": [
      "root\n",
      " |-- location_id: integer (nullable = true)\n",
      " |-- location_name: string (nullable = true)\n",
      " |-- iso3: string (nullable = true)\n",
      " |-- level: string (nullable = true)\n",
      " |-- year: integer (nullable = true)\n",
      " |-- the_total_mean: integer (nullable = true)\n",
      " |-- the_total_lower: integer (nullable = true)\n",
      " |-- the_total_upper: integer (nullable = true)\n",
      "\n"
     ]
    }
   ],
   "source": [
    "from pyspark.sql.types import *\n",
    "\n",
    "data_schema = [\n",
    "              StructField('location_id', IntegerType(), True),\n",
    "              StructField('location_name', StringType(), True),\n",
    "              StructField('iso3', StringType(), True),\n",
    "              StructField('level', StringType(), True),\n",
    "              StructField('year', IntegerType(), True),\n",
    "              StructField('the_total_mean', IntegerType(), True),\n",
    "              StructField('the_total_lower', IntegerType(), True),\n",
    "              StructField('the_total_upper', IntegerType(), True),\n",
    "            ]\n",
    "\n",
    "final_struc = StructType(fields = data_schema)\n",
    "\n",
    "data = spark.read.csv(\n",
    "    'Dane.csv',\n",
    "    sep=',',\n",
    "    header=True,\n",
    "    schema=final_struc \n",
    ")\n",
    "\n",
    "data.printSchema()\n"
   ]
  },
  {
   "cell_type": "markdown",
   "id": "93f9cb36-86fb-48cf-89c7-190112f2801e",
   "metadata": {},
   "source": [
    "# Różne metody kontroli danych\n",
    "`schema()`: Ta metoda zwraca schemat danych (ramka danych). Przykład znajduje się poniżej."
   ]
  },
  {
   "cell_type": "code",
   "execution_count": 7,
   "id": "d73fbe20-89df-4b11-a7e9-cdd3f597ef35",
   "metadata": {},
   "outputs": [
    {
     "data": {
      "text/plain": [
       "StructType([StructField('location_id', IntegerType(), True), StructField('location_name', StringType(), True), StructField('iso3', StringType(), True), StructField('level', StringType(), True), StructField('year', IntegerType(), True), StructField('the_total_mean', IntegerType(), True), StructField('the_total_lower', IntegerType(), True), StructField('the_total_upper', IntegerType(), True)])"
      ]
     },
     "execution_count": 7,
     "metadata": {},
     "output_type": "execute_result"
    }
   ],
   "source": [
    "data.schema"
   ]
  },
  {
   "cell_type": "markdown",
   "id": "2cf9e510-6619-4c27-b1be-d0f6e4d98942",
   "metadata": {},
   "source": [
    "`dtypes` zwraca listę krotek z nazwami kolumn i typami danych."
   ]
  },
  {
   "cell_type": "code",
   "execution_count": 8,
   "id": "8e7ae6f3-3057-4018-841b-89e237709110",
   "metadata": {},
   "outputs": [
    {
     "data": {
      "text/plain": [
       "[('location_id', 'int'),\n",
       " ('location_name', 'string'),\n",
       " ('iso3', 'string'),\n",
       " ('level', 'string'),\n",
       " ('year', 'int'),\n",
       " ('the_total_mean', 'int'),\n",
       " ('the_total_lower', 'int'),\n",
       " ('the_total_upper', 'int')]"
      ]
     },
     "execution_count": 8,
     "metadata": {},
     "output_type": "execute_result"
    }
   ],
   "source": [
    "data.dtypes"
   ]
  },
  {
   "cell_type": "markdown",
   "id": "441074d2-1d8a-4094-b20b-bec1cbfaf9b6",
   "metadata": {},
   "source": [
    "`head(n)` zwraca n wierszy jako listę. Oto przykład:"
   ]
  },
  {
   "cell_type": "code",
   "execution_count": 9,
   "id": "d02d5ccd-cb9c-4140-9181-407c9e337315",
   "metadata": {},
   "outputs": [
    {
     "data": {
      "text/plain": [
       "[Row(location_id=160, location_name='Afghanistan', iso3='AFG', level='Country', year=1995, the_total_mean=528409, the_total_lower=417121, the_total_upper=665425),\n",
       " Row(location_id=160, location_name='Afghanistan', iso3='AFG', level='Country', year=1996, the_total_mean=516915, the_total_lower=412035, the_total_upper=651034),\n",
       " Row(location_id=160, location_name='Afghanistan', iso3='AFG', level='Country', year=1997, the_total_mean=509874, the_total_lower=413424, the_total_upper=636436)]"
      ]
     },
     "execution_count": 9,
     "metadata": {},
     "output_type": "execute_result"
    }
   ],
   "source": [
    "data.head(3)"
   ]
  },
  {
   "cell_type": "markdown",
   "id": "fa69ba3f-8e09-4c70-ac58-4f7fc77efe26",
   "metadata": {},
   "source": [
    "`show()` domyślnie wyświetla pierwsze 20 wierszy, a także przyjmuje liczbę jako parametr określający ich liczbę."
   ]
  },
  {
   "cell_type": "code",
   "execution_count": 10,
   "id": "0d8fbe50",
   "metadata": {},
   "outputs": [
    {
     "name": "stdout",
     "output_type": "stream",
     "text": [
      "+-----------+-------------+----+-------+----+--------------+---------------+---------------+\n",
      "|location_id|location_name|iso3|  level|year|the_total_mean|the_total_lower|the_total_upper|\n",
      "+-----------+-------------+----+-------+----+--------------+---------------+---------------+\n",
      "|        160|  Afghanistan| AFG|Country|1995|        528409|         417121|         665425|\n",
      "|        160|  Afghanistan| AFG|Country|1996|        516915|         412035|         651034|\n",
      "|        160|  Afghanistan| AFG|Country|1997|        509874|         413424|         636436|\n",
      "|        160|  Afghanistan| AFG|Country|1998|        485561|         394629|         605041|\n",
      "|        160|  Afghanistan| AFG|Country|1999|        463720|         382723|         564170|\n",
      "|        160|  Afghanistan| AFG|Country|2000|        446201|         372565|         536362|\n",
      "|        160|  Afghanistan| AFG|Country|2001|        447321|         381894|         524195|\n",
      "|        160|  Afghanistan| AFG|Country|2002|        534474|         464153|         612575|\n",
      "|        160|  Afghanistan| AFG|Country|2003|        682593|         601814|         770072|\n",
      "|        160|  Afghanistan| AFG|Country|2004|        806909|         727684|         892908|\n",
      "|        160|  Afghanistan| AFG|Country|2005|        868201|         790734|         958701|\n",
      "|        160|  Afghanistan| AFG|Country|2006|        918996|         840650|        1010170|\n",
      "|        160|  Afghanistan| AFG|Country|2007|       1040372|         956086|        1141413|\n",
      "|        160|  Afghanistan| AFG|Country|2008|       1066858|         982415|        1161963|\n",
      "|        160|  Afghanistan| AFG|Country|2009|       1236730|        1149054|        1337448|\n",
      "|        160|  Afghanistan| AFG|Country|2010|       1262196|        1166456|        1364153|\n",
      "|        160|  Afghanistan| AFG|Country|2011|       1373092|        1273961|        1482720|\n",
      "|        160|  Afghanistan| AFG|Country|2012|       1410474|        1299776|        1525283|\n",
      "|        160|  Afghanistan| AFG|Country|2013|       1554494|        1435933|        1674751|\n",
      "|        160|  Afghanistan| AFG|Country|2014|       1664981|        1541417|        1800126|\n",
      "+-----------+-------------+----+-------+----+--------------+---------------+---------------+\n",
      "only showing top 20 rows\n",
      "\n"
     ]
    }
   ],
   "source": [
    "data.show()"
   ]
  },
  {
   "cell_type": "markdown",
   "id": "a3178fdc",
   "metadata": {},
   "source": [
    "`first()` zwraca pierwszy wiersz danych."
   ]
  },
  {
   "cell_type": "code",
   "execution_count": 11,
   "id": "56057623",
   "metadata": {},
   "outputs": [
    {
     "data": {
      "text/plain": [
       "Row(location_id=160, location_name='Afghanistan', iso3='AFG', level='Country', year=1995, the_total_mean=528409, the_total_lower=417121, the_total_upper=665425)"
      ]
     },
     "execution_count": 11,
     "metadata": {},
     "output_type": "execute_result"
    }
   ],
   "source": [
    "data.first()"
   ]
  },
  {
   "cell_type": "markdown",
   "id": "5d036617",
   "metadata": {},
   "source": [
    "`take(n)` zwraca pierwsze `n` wierszy."
   ]
  },
  {
   "cell_type": "code",
   "execution_count": 12,
   "id": "c7526f0b",
   "metadata": {},
   "outputs": [
    {
     "data": {
      "text/plain": [
       "[Row(location_id=160, location_name='Afghanistan', iso3='AFG', level='Country', year=1995, the_total_mean=528409, the_total_lower=417121, the_total_upper=665425),\n",
       " Row(location_id=160, location_name='Afghanistan', iso3='AFG', level='Country', year=1996, the_total_mean=516915, the_total_lower=412035, the_total_upper=651034)]"
      ]
     },
     "execution_count": 12,
     "metadata": {},
     "output_type": "execute_result"
    }
   ],
   "source": [
    "data.take(2)\n"
   ]
  },
  {
   "cell_type": "markdown",
   "id": "1a17610e",
   "metadata": {},
   "source": [
    "`describe()` oblicza niektóre wartości statystyczne dla kolumn liczbowych.\n"
   ]
  },
  {
   "cell_type": "code",
   "execution_count": 13,
   "id": "9a64ccf7",
   "metadata": {},
   "outputs": [
    {
     "data": {
      "text/plain": [
       "DataFrame[summary: string, location_id: string, location_name: string, iso3: string, level: string, year: string, the_total_mean: string, the_total_lower: string, the_total_upper: string]"
      ]
     },
     "execution_count": 13,
     "metadata": {},
     "output_type": "execute_result"
    }
   ],
   "source": [
    "data.describe()"
   ]
  },
  {
   "cell_type": "markdown",
   "id": "39dd0fb1",
   "metadata": {},
   "source": [
    "`columns` zwraca listę zawierającą nazwy kolumn.\n"
   ]
  },
  {
   "cell_type": "code",
   "execution_count": 14,
   "id": "e3f8d534",
   "metadata": {},
   "outputs": [
    {
     "data": {
      "text/plain": [
       "['location_id',\n",
       " 'location_name',\n",
       " 'iso3',\n",
       " 'level',\n",
       " 'year',\n",
       " 'the_total_mean',\n",
       " 'the_total_lower',\n",
       " 'the_total_upper']"
      ]
     },
     "execution_count": 14,
     "metadata": {},
     "output_type": "execute_result"
    }
   ],
   "source": [
    "data.columns"
   ]
  },
  {
   "cell_type": "markdown",
   "id": "23845f27",
   "metadata": {},
   "source": [
    "`count()` zwraca całkowitą liczbę wierszy w zestawie danych."
   ]
  },
  {
   "cell_type": "code",
   "execution_count": 15,
   "id": "fa59695b",
   "metadata": {},
   "outputs": [
    {
     "data": {
      "text/plain": [
       "5232"
      ]
     },
     "execution_count": 15,
     "metadata": {},
     "output_type": "execute_result"
    }
   ],
   "source": [
    "data.count()"
   ]
  },
  {
   "cell_type": "markdown",
   "id": "70f6b240",
   "metadata": {},
   "source": [
    "`differ()` to liczba odmiennych wierszy w używanym zbiorze danych."
   ]
  },
  {
   "cell_type": "code",
   "execution_count": 16,
   "id": "bac9675f",
   "metadata": {},
   "outputs": [],
   "source": [
    "#data.differ() "
   ]
  },
  {
   "cell_type": "markdown",
   "id": "9bb399c6",
   "metadata": {},
   "source": [
    "\n",
    "`printSchema()` wyświetla schemat danych."
   ]
  },
  {
   "cell_type": "code",
   "execution_count": 17,
   "id": "0ead1bfb",
   "metadata": {},
   "outputs": [
    {
     "name": "stdout",
     "output_type": "stream",
     "text": [
      "root\n",
      " |-- location_id: integer (nullable = true)\n",
      " |-- location_name: string (nullable = true)\n",
      " |-- iso3: string (nullable = true)\n",
      " |-- level: string (nullable = true)\n",
      " |-- year: integer (nullable = true)\n",
      " |-- the_total_mean: integer (nullable = true)\n",
      " |-- the_total_lower: integer (nullable = true)\n",
      " |-- the_total_upper: integer (nullable = true)\n",
      "\n"
     ]
    }
   ],
   "source": [
    "data.printSchema()"
   ]
  },
  {
   "cell_type": "markdown",
   "id": "b9de04a4",
   "metadata": {},
   "source": [
    "# Manipulacja kolumnami\n",
    "\n",
    "Do dodania kolumny: używamy `withColumn`, aby dodać nową kolumnę do istniejących. Metoda przyjmuje dwa parametry: nazwę kolumny i dane."
   ]
  },
  {
   "cell_type": "code",
   "execution_count": 18,
   "id": "3bc73924-1b50-461f-92cd-b14422dc8613",
   "metadata": {},
   "outputs": [
    {
     "name": "stdout",
     "output_type": "stream",
     "text": [
      "+-----------+-------------+----+-------+----+--------------+---------------+---------------+------------------+\n",
      "|location_id|location_name|iso3|  level|year|the_total_mean|the_total_lower|the_total_upper|location_name_copy|\n",
      "+-----------+-------------+----+-------+----+--------------+---------------+---------------+------------------+\n",
      "|        160|  Afghanistan| AFG|Country|1995|        528409|         417121|         665425|       Afghanistan|\n",
      "|        160|  Afghanistan| AFG|Country|1996|        516915|         412035|         651034|       Afghanistan|\n",
      "|        160|  Afghanistan| AFG|Country|1997|        509874|         413424|         636436|       Afghanistan|\n",
      "|        160|  Afghanistan| AFG|Country|1998|        485561|         394629|         605041|       Afghanistan|\n",
      "|        160|  Afghanistan| AFG|Country|1999|        463720|         382723|         564170|       Afghanistan|\n",
      "+-----------+-------------+----+-------+----+--------------+---------------+---------------+------------------+\n",
      "only showing top 5 rows\n",
      "\n"
     ]
    }
   ],
   "source": [
    "data = data.withColumn('location_name_copy', data.location_name)\n",
    "\n",
    "data.show(5)"
   ]
  },
  {
   "cell_type": "markdown",
   "id": "eccc62c4-55f4-4449-a4af-5d7eb1061c0d",
   "metadata": {},
   "source": [
    "Aktualizujemy kolumne za pomocą: `withColumnRenamed`, aby zmienić nazwę istniejącej kolumny. Metoda przyjmuje dwa parametry: nazwę istniejącej kolumny i jej nową nazwę. Przykład:"
   ]
  },
  {
   "cell_type": "code",
   "execution_count": 19,
   "id": "e88abaf0-bcd0-4baa-87d4-9602168c9912",
   "metadata": {},
   "outputs": [
    {
     "name": "stdout",
     "output_type": "stream",
     "text": [
      "+-----------+-------------+----+-------+----+--------------+---------------+---------------+---------------------+\n",
      "|location_id|location_name|iso3|  level|year|the_total_mean|the_total_lower|the_total_upper|location_name_changed|\n",
      "+-----------+-------------+----+-------+----+--------------+---------------+---------------+---------------------+\n",
      "|        160|  Afghanistan| AFG|Country|1995|        528409|         417121|         665425|          Afghanistan|\n",
      "|        160|  Afghanistan| AFG|Country|1996|        516915|         412035|         651034|          Afghanistan|\n",
      "|        160|  Afghanistan| AFG|Country|1997|        509874|         413424|         636436|          Afghanistan|\n",
      "|        160|  Afghanistan| AFG|Country|1998|        485561|         394629|         605041|          Afghanistan|\n",
      "|        160|  Afghanistan| AFG|Country|1999|        463720|         382723|         564170|          Afghanistan|\n",
      "+-----------+-------------+----+-------+----+--------------+---------------+---------------+---------------------+\n",
      "only showing top 5 rows\n",
      "\n"
     ]
    }
   ],
   "source": [
    "data = data.withColumnRenamed('location_name_copy', 'location_name_changed')\n",
    "\n",
    "data.show(5)"
   ]
  },
  {
   "cell_type": "markdown",
   "id": "b0cfc34f-6cfb-42fc-aae8-708c8f0b880c",
   "metadata": {},
   "source": [
    "Upuszczanie kolumny: Użyj metody `drop`, która pobiera nazwę kolumny i zwraca dane."
   ]
  },
  {
   "cell_type": "code",
   "execution_count": 20,
   "id": "215d1e6a-8a05-4802-874d-9df403e3f33a",
   "metadata": {},
   "outputs": [
    {
     "name": "stdout",
     "output_type": "stream",
     "text": [
      "+-----------+-------------+----+-------+----+--------------+---------------+---------------+\n",
      "|location_id|location_name|iso3|  level|year|the_total_mean|the_total_lower|the_total_upper|\n",
      "+-----------+-------------+----+-------+----+--------------+---------------+---------------+\n",
      "|        160|  Afghanistan| AFG|Country|1995|        528409|         417121|         665425|\n",
      "|        160|  Afghanistan| AFG|Country|1996|        516915|         412035|         651034|\n",
      "|        160|  Afghanistan| AFG|Country|1997|        509874|         413424|         636436|\n",
      "|        160|  Afghanistan| AFG|Country|1998|        485561|         394629|         605041|\n",
      "|        160|  Afghanistan| AFG|Country|1999|        463720|         382723|         564170|\n",
      "+-----------+-------------+----+-------+----+--------------+---------------+---------------+\n",
      "only showing top 5 rows\n",
      "\n"
     ]
    }
   ],
   "source": [
    "data = data.drop('location_name_changed')\n",
    "\n",
    "data.show(5)"
   ]
  },
  {
   "cell_type": "markdown",
   "id": "b1e0d110-05af-4943-ab90-a2eeda97873a",
   "metadata": {},
   "source": [
    "# Radzenie sobie z brakującymi wartościami\n",
    "Często napotykamy brakujące wartości podczas pracy z danymi czasu rzeczywistego. Te brakujące wartości są oznaczone jako `NaN`, spacje lub inne symbole zastępcze. Istnieją różne metody radzenia sobie z brakujacymi danymi."
   ]
  },
  {
   "cell_type": "code",
   "execution_count": 21,
   "id": "a22ac3a7-52cf-4b9f-9f97-54c62e38342f",
   "metadata": {},
   "outputs": [
    {
     "data": {
      "text/plain": [
       "DataFrame[location_id: int, location_name: string, iso3: string, level: string, year: int, the_total_mean: int, the_total_lower: int, the_total_upper: int]"
      ]
     },
     "execution_count": 21,
     "metadata": {},
     "output_type": "execute_result"
    }
   ],
   "source": [
    "from pyspark.sql import functions as f\n",
    "data1 = data\n",
    "\n",
    "## Usuń wiersze z brakującymi wartościami w dowolnej z kolumn\n",
    "data1.na.drop()\n",
    "\n",
    "## Zastąp brakujące wartości za pomocą średniej\n",
    "data1.na.fill(data.select(f.mean(data['the_total_mean'])).collect()[0][0])\n",
    "\n",
    "## Zastąp brakujące wartości nowymi\n",
    "#data1.na.replace(old_value, new_vallue)"
   ]
  },
  {
   "cell_type": "markdown",
   "id": "0573b6cc-a76a-4d2a-bf7c-23967495addd",
   "metadata": {},
   "source": [
    "# Pobieranie danych"
   ]
  },
  {
   "cell_type": "markdown",
   "id": "70802069-2ebd-4417-9f53-b4549c7a12a6",
   "metadata": {},
   "source": [
    "### Select\n",
    "Służy do wybierania jednej lub więcej kolumn przy użyciu ich nazw."
   ]
  },
  {
   "cell_type": "code",
   "execution_count": 22,
   "id": "99f0e004-5a92-41f9-8846-9397667e2342",
   "metadata": {},
   "outputs": [
    {
     "name": "stdout",
     "output_type": "stream",
     "text": [
      "+-------------+\n",
      "|location_name|\n",
      "+-------------+\n",
      "|  Afghanistan|\n",
      "|  Afghanistan|\n",
      "|  Afghanistan|\n",
      "|  Afghanistan|\n",
      "|  Afghanistan|\n",
      "+-------------+\n",
      "only showing top 5 rows\n",
      "\n",
      "+-------------+----+--------------+\n",
      "|location_name|year|the_total_mean|\n",
      "+-------------+----+--------------+\n",
      "|  Afghanistan|1995|        528409|\n",
      "|  Afghanistan|1996|        516915|\n",
      "|  Afghanistan|1997|        509874|\n",
      "|  Afghanistan|1998|        485561|\n",
      "|  Afghanistan|1999|        463720|\n",
      "+-------------+----+--------------+\n",
      "only showing top 5 rows\n",
      "\n"
     ]
    }
   ],
   "source": [
    "# wybór jednej kolumny\n",
    "data.select('location_name').show(5)\n",
    "\n",
    "# wybór kilku kolumn\n",
    "data.select(['location_name', 'year', 'the_total_mean']).show(5)"
   ]
  },
  {
   "cell_type": "markdown",
   "id": "e1873afd-c227-4613-934d-33cfa8af676f",
   "metadata": {},
   "source": [
    "### Filter\n",
    "Ta metoda filtruje dane na podstawie określonego warunku. Możesz także określić wiele warunków za pomocą operatorów `AND (&)`, `OR (|)` i `NOT (~)`."
   ]
  },
  {
   "cell_type": "code",
   "execution_count": 23,
   "id": "bbf52891-6af7-4051-99dc-bfdc5e914650",
   "metadata": {},
   "outputs": [
    {
     "name": "stdout",
     "output_type": "stream",
     "text": [
      "+-----------+-------------+----+-------+----+--------------+---------------+---------------+\n",
      "|location_id|location_name|iso3|  level|year|the_total_mean|the_total_lower|the_total_upper|\n",
      "+-----------+-------------+----+-------+----+--------------+---------------+---------------+\n",
      "|        160|  Afghanistan| AFG|Country|2014|       1664981|        1541417|        1800126|\n",
      "|        160|  Afghanistan| AFG|Country|2015|       1822293|        1693212|        1960564|\n",
      "|        160|  Afghanistan| AFG|Country|2016|       1882415|        1747511|        2028013|\n",
      "|         43|      Albania| ALB|Country|2014|        707623|         664415|         759515|\n",
      "|         43|      Albania| ALB|Country|2015|        689829|         646378|         738745|\n",
      "|         43|      Albania| ALB|Country|2016|        690713|         644271|         738868|\n",
      "|        139|      Algeria| DZA|Country|2014|       8926232|        8299216|        9529765|\n",
      "|        139|      Algeria| DZA|Country|2015|       9866905|        9193595|       10524307|\n",
      "|        139|      Algeria| DZA|Country|2016|       9690605|        9053261|       10365602|\n",
      "+-----------+-------------+----+-------+----+--------------+---------------+---------------+\n",
      "only showing top 9 rows\n",
      "\n"
     ]
    }
   ],
   "source": [
    "from pyspark.sql.functions import col\n",
    "\n",
    "data.filter( (col('year') >= 2014) & (col('year') <= 2016) ).show(9)"
   ]
  },
  {
   "cell_type": "markdown",
   "id": "1584fc87-3e71-47a3-b5aa-79686fea402a",
   "metadata": {},
   "source": [
    "### Between\n",
    "Ta metoda zwraca `True`, jeśli testowana wartość należy do określonego zakresu, w przeciwnym razie — `False`."
   ]
  },
  {
   "cell_type": "code",
   "execution_count": 24,
   "id": "9509421e-9aad-425f-9208-ff3d846b0965",
   "metadata": {},
   "outputs": [
    {
     "name": "stdout",
     "output_type": "stream",
     "text": [
      "+-----------+-------------+----+-------+----+--------------+---------------+---------------+\n",
      "|location_id|location_name|iso3|  level|year|the_total_mean|the_total_lower|the_total_upper|\n",
      "+-----------+-------------+----+-------+----+--------------+---------------+---------------+\n",
      "|        160|  Afghanistan| AFG|Country|2007|       1040372|         956086|        1141413|\n",
      "|        160|  Afghanistan| AFG|Country|2008|       1066858|         982415|        1161963|\n",
      "|        160|  Afghanistan| AFG|Country|2009|       1236730|        1149054|        1337448|\n",
      "|        160|  Afghanistan| AFG|Country|2010|       1262196|        1166456|        1364153|\n",
      "|        160|  Afghanistan| AFG|Country|2011|       1373092|        1273961|        1482720|\n",
      "|        160|  Afghanistan| AFG|Country|2012|       1410474|        1299776|        1525283|\n",
      "|        160|  Afghanistan| AFG|Country|2013|       1554494|        1435933|        1674751|\n",
      "|        160|  Afghanistan| AFG|Country|2014|       1664981|        1541417|        1800126|\n",
      "|        160|  Afghanistan| AFG|Country|2015|       1822293|        1693212|        1960564|\n",
      "|        160|  Afghanistan| AFG|Country|2016|       1882415|        1747511|        2028013|\n",
      "|        160|  Afghanistan| AFG|Country|2017|       1992736|        1857448|        2142606|\n",
      "|        160|  Afghanistan| AFG|Country|2018|       2037487|        1874376|        2207902|\n",
      "|        139|      Algeria| DZA|Country|1995|       2623765|        2299202|        2963485|\n",
      "|        139|      Algeria| DZA|Country|1996|       2635043|        2339491|        2970076|\n",
      "|        139|      Algeria| DZA|Country|1997|       2743760|        2460967|        3073676|\n",
      "|        139|      Algeria| DZA|Country|1998|       2839588|        2556079|        3162763|\n",
      "|        139|      Algeria| DZA|Country|1999|       2930760|        2636841|        3244267|\n",
      "|        139|      Algeria| DZA|Country|2000|       2974090|        2682085|        3293950|\n",
      "|        139|      Algeria| DZA|Country|2001|       3204780|        2879433|        3548736|\n",
      "|        139|      Algeria| DZA|Country|2002|       3465709|        3139612|        3802827|\n",
      "+-----------+-------------+----+-------+----+--------------+---------------+---------------+\n",
      "only showing top 20 rows\n",
      "\n"
     ]
    }
   ],
   "source": [
    "data.filter(data.the_total_mean.between(1000000, 5000000)).show()"
   ]
  },
  {
   "cell_type": "markdown",
   "id": "b1818492-df0d-46f1-878c-c0276db18cd5",
   "metadata": {},
   "source": [
    "### When\n",
    "Zwraca 0 lub 1 w zależności od określonego warunku."
   ]
  },
  {
   "cell_type": "code",
   "execution_count": 25,
   "id": "194277f8-5f2e-40bc-a1cf-b34744e09a0c",
   "metadata": {},
   "outputs": [
    {
     "name": "stdout",
     "output_type": "stream",
     "text": [
      "+-------------+--------------+----------------------------------------+\n",
      "|location_name|the_total_mean|CASE WHEN (iso3 = AFG) THEN 1 ELSE 0 END|\n",
      "+-------------+--------------+----------------------------------------+\n",
      "|  Afghanistan|        528409|                                       1|\n",
      "|  Afghanistan|        516915|                                       1|\n",
      "|  Afghanistan|        509874|                                       1|\n",
      "|  Afghanistan|        485561|                                       1|\n",
      "|  Afghanistan|        463720|                                       1|\n",
      "|  Afghanistan|        446201|                                       1|\n",
      "|  Afghanistan|        447321|                                       1|\n",
      "|  Afghanistan|        534474|                                       1|\n",
      "|  Afghanistan|        682593|                                       1|\n",
      "|  Afghanistan|        806909|                                       1|\n",
      "|  Afghanistan|        868201|                                       1|\n",
      "|  Afghanistan|        918996|                                       1|\n",
      "|  Afghanistan|       1040372|                                       1|\n",
      "|  Afghanistan|       1066858|                                       1|\n",
      "|  Afghanistan|       1236730|                                       1|\n",
      "|  Afghanistan|       1262196|                                       1|\n",
      "|  Afghanistan|       1373092|                                       1|\n",
      "|  Afghanistan|       1410474|                                       1|\n",
      "|  Afghanistan|       1554494|                                       1|\n",
      "|  Afghanistan|       1664981|                                       1|\n",
      "|  Afghanistan|       1822293|                                       1|\n",
      "|  Afghanistan|       1882415|                                       1|\n",
      "|  Afghanistan|       1992736|                                       1|\n",
      "|  Afghanistan|       2037487|                                       1|\n",
      "|      Albania|        497827|                                       0|\n",
      "+-------------+--------------+----------------------------------------+\n",
      "only showing top 25 rows\n",
      "\n"
     ]
    }
   ],
   "source": [
    "data.select('location_name', 'the_total_mean', \n",
    "            f.when(data.iso3 == 'AFG', 1).otherwise(0)\n",
    ").show(25)"
   ]
  },
  {
   "cell_type": "markdown",
   "id": "d3b1aa5b-ef9a-4690-8aa5-3fd608b3738f",
   "metadata": {},
   "source": [
    "### Like\n",
    "Ta metoda jest podobna do operatora Like w SQL. "
   ]
  },
  {
   "cell_type": "code",
   "execution_count": 26,
   "id": "777cf1da-2a9a-4627-a59f-5cbc1fe0313c",
   "metadata": {},
   "outputs": [
    {
     "name": "stdout",
     "output_type": "stream",
     "text": [
      "+----+---------------------------+\n",
      "|iso3|iso3 zaczyba sie na P lub T|\n",
      "+----+---------------------------+\n",
      "|ZAF |false                      |\n",
      "|CZE |false                      |\n",
      "|GRL |false                      |\n",
      "|BEL |false                      |\n",
      "|SVK |false                      |\n",
      "|NLD |false                      |\n",
      "|BDI |false                      |\n",
      "|COG |false                      |\n",
      "|SVN |false                      |\n",
      "|BMU |false                      |\n",
      "|RUS |false                      |\n",
      "|MNE |false                      |\n",
      "|SEN |false                      |\n",
      "|R4  |false                      |\n",
      "|ECU |false                      |\n",
      "|SLB |false                      |\n",
      "|AUS |false                      |\n",
      "|IND |false                      |\n",
      "|UZB |false                      |\n",
      "|CPV |false                      |\n",
      "|ISL |false                      |\n",
      "|BIH |false                      |\n",
      "|CHN |false                      |\n",
      "|LSO |false                      |\n",
      "|MOZ |false                      |\n",
      "|G   |false                      |\n",
      "|AFG |false                      |\n",
      "|IRN |false                      |\n",
      "|GRD |false                      |\n",
      "|VEN |false                      |\n",
      "|GEO |false                      |\n",
      "|GNB |false                      |\n",
      "|KWT |false                      |\n",
      "|S4  |false                      |\n",
      "|AGO |false                      |\n",
      "|S2  |false                      |\n",
      "|MCO |false                      |\n",
      "|NOR |false                      |\n",
      "|BLZ |false                      |\n",
      "|TZA |true                       |\n",
      "|S3  |false                      |\n",
      "|HUN |false                      |\n",
      "|KNA |false                      |\n",
      "|ARE |false                      |\n",
      "|TKL |true                       |\n",
      "|SLV |false                      |\n",
      "|GUY |false                      |\n",
      "|MNG |false                      |\n",
      "|S5  |false                      |\n",
      "|KAZ |false                      |\n",
      "|MAR |false                      |\n",
      "|MEX |false                      |\n",
      "|TLS |true                       |\n",
      "|null|null                       |\n",
      "|UGA |false                      |\n",
      "|MDG |false                      |\n",
      "|BFA |false                      |\n",
      "|JOR |false                      |\n",
      "|NAM |false                      |\n",
      "|SMR |false                      |\n",
      "|LKA |false                      |\n",
      "|MDA |false                      |\n",
      "|DZA |false                      |\n",
      "|MLI |false                      |\n",
      "|TON |true                       |\n",
      "|GBR |false                      |\n",
      "|ARM |false                      |\n",
      "|GNQ |false                      |\n",
      "|JAM |false                      |\n",
      "|FSM |false                      |\n",
      "|GRC |false                      |\n",
      "|BEN |false                      |\n",
      "|IDN |false                      |\n",
      "|LVA |false                      |\n",
      "|MRT |false                      |\n",
      "|ARG |false                      |\n",
      "|AZE |false                      |\n",
      "|KOR |false                      |\n",
      "|CYP |false                      |\n",
      "|CHL |false                      |\n",
      "|FIN |false                      |\n",
      "|GTM |false                      |\n",
      "|GAB |false                      |\n",
      "|SOM |false                      |\n",
      "|EGY |false                      |\n",
      "|ALB |false                      |\n",
      "|MLT |false                      |\n",
      "|PRK |true                       |\n",
      "|LAO |false                      |\n",
      "|RWA |false                      |\n",
      "|PRT |true                       |\n",
      "|SUR |false                      |\n",
      "|TGO |true                       |\n",
      "|PLW |true                       |\n",
      "|DOM |false                      |\n",
      "|SWE |false                      |\n",
      "|PNG |true                       |\n",
      "|SGP |false                      |\n",
      "|ISR |false                      |\n",
      "|TTO |true                       |\n",
      "|UKR |false                      |\n",
      "|S7  |false                      |\n",
      "|LUX |false                      |\n",
      "|DJI |false                      |\n",
      "|BHR |false                      |\n",
      "|MKD |false                      |\n",
      "|LBR |false                      |\n",
      "|CUB |false                      |\n",
      "|VUT |false                      |\n",
      "|TKM |true                       |\n",
      "|PSE |true                       |\n",
      "|PHL |true                       |\n",
      "|BGR |false                      |\n",
      "|KEN |false                      |\n",
      "|MNP |false                      |\n",
      "|LCA |false                      |\n",
      "|JPN |false                      |\n",
      "|VCT |false                      |\n",
      "|CIV |false                      |\n",
      "|KGZ |false                      |\n",
      "|MHL |false                      |\n",
      "|ROU |false                      |\n",
      "|SWZ |false                      |\n",
      "|KIR |false                      |\n",
      "|SDN |false                      |\n",
      "|CMR |false                      |\n",
      "|SLE |false                      |\n",
      "|COL |false                      |\n",
      "|NER |false                      |\n",
      "|GIN |false                      |\n",
      "|FRA |false                      |\n",
      "|EST |false                      |\n",
      "|TJK |true                       |\n",
      "|AND |false                      |\n",
      "|CHE |false                      |\n",
      "|CRI |false                      |\n",
      "|THA |true                       |\n",
      "|NRU |false                      |\n",
      "|NGA |false                      |\n",
      "|PER |true                       |\n",
      "|ZWE |false                      |\n",
      "|COK |false                      |\n",
      "|SAU |false                      |\n",
      "|WSM |false                      |\n",
      "|MDV |false                      |\n",
      "|PAK |true                       |\n",
      "|TUN |true                       |\n",
      "|BLR |false                      |\n",
      "|BRN |false                      |\n",
      "|YEM |false                      |\n",
      "|IRQ |false                      |\n",
      "|BGD |false                      |\n",
      "|DEU |false                      |\n",
      "|ITA |false                      |\n",
      "|BTN |false                      |\n",
      "|ESP |false                      |\n",
      "|AUT |false                      |\n",
      "|MYS |false                      |\n",
      "|NIC |false                      |\n",
      "|ZMB |false                      |\n",
      "|PAN |true                       |\n",
      "|PRI |true                       |\n",
      "|ASM |false                      |\n",
      "|HRV |false                      |\n",
      "|POL |true                       |\n",
      "|VIR |false                      |\n",
      "|TWN |true                       |\n",
      "|GHA |false                      |\n",
      "|SRB |false                      |\n",
      "|KHM |false                      |\n",
      "|TUR |true                       |\n",
      "|TUV |true                       |\n",
      "|MWI |false                      |\n",
      "|TCD |true                       |\n",
      "|STP |false                      |\n",
      "|COM |false                      |\n",
      "|ETH |false                      |\n",
      "|GUM |false                      |\n",
      "|SYC |false                      |\n",
      "|BRB |false                      |\n",
      "|COD |false                      |\n",
      "|DMA |false                      |\n",
      "|S6  |false                      |\n",
      "|LBN |false                      |\n",
      "|LBY |false                      |\n",
      "|FJI |false                      |\n",
      "|NZL |false                      |\n",
      "|OMN |false                      |\n",
      "|GMB |false                      |\n",
      "|QAT |false                      |\n",
      "|HND |false                      |\n",
      "|MUS |false                      |\n",
      "|HTI |false                      |\n",
      "|USA |false                      |\n",
      "|BRA |false                      |\n",
      "|LTU |false                      |\n",
      "|R15 |false                      |\n",
      "|DNK |false                      |\n",
      "|MMR |false                      |\n",
      "|IRL |false                      |\n",
      "|BOL |false                      |\n",
      "|NPL |false                      |\n",
      "|SYR |false                      |\n",
      "|S1  |false                      |\n",
      "|BHS |false                      |\n",
      "|ERI |false                      |\n",
      "|CAN |false                      |\n",
      "|BWA |false                      |\n",
      "|ATG |false                      |\n",
      "|NIU |false                      |\n",
      "|CAF |false                      |\n",
      "|SSD |false                      |\n",
      "|PRY |true                       |\n",
      "|URY |false                      |\n",
      "|VNM |false                      |\n",
      "+----+---------------------------+\n",
      "\n"
     ]
    }
   ],
   "source": [
    "data.select(\n",
    "    'iso3', \n",
    "    data.iso3.rlike('^[P,T]').alias('iso3 zaczyba sie na P lub T')\n",
    ").distinct().show(data.count(),False) "
   ]
  },
  {
   "cell_type": "markdown",
   "id": "befeee40-27a7-4f96-a63b-0bcb2786482a",
   "metadata": {},
   "source": [
    "### GroupBy\n",
    "Sama nazwa sugeruje, że ta funkcja grupuje dane według wybranej kolumny i wykonuje różne operacje, takie jak obliczanie sumy, średniej, minimalnej, maksymalnej wartości itp."
   ]
  },
  {
   "cell_type": "code",
   "execution_count": 27,
   "id": "c33a7d78-d545-4dc9-ac0e-c79d1b8799b3",
   "metadata": {},
   "outputs": [
    {
     "name": "stdout",
     "output_type": "stream",
     "text": [
      "+----+--------------------+\n",
      "|iso3|avg(the_total_upper)|\n",
      "+----+--------------------+\n",
      "| NIU|   7513.541666666667|\n",
      "| HTI|   482741.1666666667|\n",
      "| PSE|  1439377.3333333333|\n",
      "| BRB|   336664.2083333333|\n",
      "| LVA|  1535189.0833333333|\n",
      "| POL|       2.434388075E7|\n",
      "| JAM|          812931.375|\n",
      "| ZMB|   693708.6666666666|\n",
      "| BRA|     1.04856724375E8|\n",
      "| ARM|   659695.6666666666|\n",
      "| MOZ|   551096.6666666666|\n",
      "| CUB|         8350754.625|\n",
      "| JOR|          2499192.25|\n",
      "| FRA|2.5772781633333334E8|\n",
      "| SOM|   98454.04166666667|\n",
      "| BRN|            249967.5|\n",
      "| COD|  1079696.9583333333|\n",
      "| FSM|  23066.583333333332|\n",
      "| BOL|  1550184.5833333333|\n",
      "| URY|  3807072.0833333335|\n",
      "+----+--------------------+\n",
      "only showing top 20 rows\n",
      "\n"
     ]
    }
   ],
   "source": [
    "data.select(['location_name', 'iso3', 'the_total_upper'])\\\n",
    "    .groupBy('iso3')\\\n",
    "    .mean()\\\n",
    "    .show()"
   ]
  },
  {
   "cell_type": "markdown",
   "id": "aa210dab-554a-47d4-a6a5-d0ae61816357",
   "metadata": {},
   "source": [
    "### Agregacja\n",
    "PySpark zapewnia wbudowane standardowe funkcje agregacji zdefiniowane w API DataFrame, które mogą się przydać, gdy musimy zagregować wartości Twoich kolumn. Innymi słowy, takie funkcje działają na kilka wierszy i oblicza pojedynczą wartość powrotną dla każdej grupy."
   ]
  },
  {
   "cell_type": "code",
   "execution_count": 28,
   "id": "f36fa37e-729b-4ebe-87ac-ad812d2bb511",
   "metadata": {},
   "outputs": [
    {
     "name": "stdout",
     "output_type": "stream",
     "text": [
      "+----+-------+-------+-----------------------+-----------------------+-----------------------+-----------------------+-----------------------+-----------------------+\n",
      "|iso3|from   |to     |minimum the_total_upper|maximum the_total_upper|average the_total_upper|minimum the_total_lower|maximum the_total_lower|average the_total_lower|\n",
      "+----+-------+-------+-----------------------+-----------------------+-----------------------+-----------------------+-----------------------+-----------------------+\n",
      "|PSE |1223939|2071988|1223939                |2071988                |1793788.6666666667     |1120275                |1837320                |1646105.9333333333     |\n",
      "|LVA |1007632|2198799|1007632                |2198799                |1586823.6363636365     |883167                 |2066178                |1468513.2272727273     |\n",
      "|JAM |1076674|1076674|1076674                |1076674                |1076674.0              |935098                 |935098                 |935098.0               |\n",
      "|ZMB |1082510|1131138|1082510                |1131138                |1106824.0              |941213                 |979097                 |960155.0               |\n",
      "|ARM |1081259|1322791|1081259                |1322791                |1198103.8333333333     |969600                 |1171028                |1075179.0              |\n",
      "|MOZ |1006773|1073954|1006773                |1073954                |1045502.75             |902047                 |964416                 |935939.0               |\n",
      "|CUB |2941277|4705977|2941277                |4705977                |3742848.5              |2200588                |3859169                |2962002.75             |\n",
      "|JOR |1370138|3661929|1370138                |3661929                |2499192.25             |1149937                |3163167                |2258693.6666666665     |\n",
      "|COD |1013678|1788444|1013678                |1788444                |1351162.9166666667     |668246                 |1586282                |1178644.6666666667     |\n",
      "|BOL |1037936|3001243|1037936                |3001243                |1733340.7368421052     |859630                 |2528893                |1463985.105263158      |\n",
      "|URY |3028790|4799858|3028790                |4799858                |3608977.1904761903     |2851788                |4634754                |3419123.714285714      |\n",
      "|LBY |4501022|4937678|4501022                |4937678                |4744439.75             |3797405                |4216872                |3974445.25             |\n",
      "|ETH |1049766|2982124|1049766                |2982124                |2148532.9375           |871192                 |2629845                |1881794.0625           |\n",
      "|CMR |1013713|1577218|1013713                |1577218                |1272157.75             |753535                 |1199462                |962743.4375            |\n",
      "|GHA |1112613|2428558|1112613                |2428558                |1945140.8              |895375                 |2066230                |1612889.2              |\n",
      "|GTM |1524791|4895197|1524791                |4895197                |3199461.590909091      |1232895                |4386273                |2792546.090909091      |\n",
      "|SEN |1062642|1062794|1062642                |1062794                |1062718.0              |859448                 |893261                 |876354.5               |\n",
      "|HRV |2674216|4822369|2674216                |4822369                |3786935.7916666665     |2307681                |4548423                |3497992.8333333335     |\n",
      "|QAT |1023605|4794899|1023605                |4794899                |2523426.75             |895273                 |4173425                |2182818.25             |\n",
      "|PRY |1001038|2648083|1001038                |2648083                |1701464.857142857      |880695                 |2346752                |1545206.7142857143     |\n",
      "+----+-------+-------+-----------------------+-----------------------+-----------------------+-----------------------+-----------------------+-----------------------+\n",
      "only showing top 20 rows\n",
      "\n"
     ]
    }
   ],
   "source": [
    "from pyspark.sql import functions as f\n",
    "\n",
    "data.filter((col('the_total_upper') >= 1000000) & (col('the_total_upper') <= 5000000))\\\n",
    "    .groupBy(\"iso3\") \\\n",
    "    .agg(f.min(\"the_total_upper\").alias(\"from\"), \n",
    "         f.max(\"the_total_upper\").alias(\"to\"), \n",
    "         \n",
    "         f.min(\"the_total_upper\").alias(\"minimum the_total_upper\"),\n",
    "         f.max(\"the_total_upper\").alias(\"maximum the_total_upper\"), \n",
    "         f.avg(\"the_total_upper\").alias(\"average the_total_upper\"), \n",
    "\n",
    "         f.min(\"the_total_lower\").alias(\"minimum the_total_lower\"),\n",
    "         f.max(\"the_total_lower\").alias(\"maximum the_total_lower\"), \n",
    "         f.avg(\"the_total_lower\").alias(\"average the_total_lower\"), \n",
    "\n",
    "      ).show(truncate=False)"
   ]
  },
  {
   "cell_type": "markdown",
   "id": "18f1b342-c629-4683-8e61-b84b3958e63e",
   "metadata": {},
   "source": [
    "## Wizualizacja danych\n",
    "Do wizualizacji danych wykorzystujemy biblioteki `matplotlib` i `pandas`. Metoda `toPandas()` umożliwia nam przekształcenie danych w ramkę danych pandas, której używamy, gdy wywołujemy metodę renderowania `plot()`. "
   ]
  },
  {
   "cell_type": "code",
   "execution_count": 29,
   "id": "5490935b-bc76-43b0-9980-4e00d2955bf9",
   "metadata": {},
   "outputs": [
    {
     "data": {
      "image/png": "[encoded data removed]",
      "text/plain": [
       "<Figure size 864x432 with 1 Axes>"
      ]
     },
     "metadata": {
      "needs_background": "light"
     },
     "output_type": "display_data"
    }
   ],
   "source": [
    "from matplotlib import pyplot as plt\n",
    "\n",
    "currency_df =  data.select(['iso3', \n",
    "                       'the_total_lower', \n",
    "                       'the_total_upper', \n",
    "                       ]\n",
    "                     )\\\n",
    "                     .groupBy('iso3')\\\n",
    "                     .mean()\\\n",
    "                     .toPandas()\n",
    "\n",
    "ind = list(range(12))\n",
    "ind.pop(6)\n",
    "\n",
    "currency_df.iloc[ind ,:].plot(kind='bar', x='iso3', y=currency_df.columns.tolist()[1:], \n",
    "                         figsize=(12, 6), ylabel='People', xlabel='iso the_total')\n",
    "plt.show()"
   ]
  },
  {
   "cell_type": "markdown",
   "id": "ed56be24-7149-4fb8-886f-0ffdd5a8cbc8",
   "metadata": {},
   "source": [
    "## Zapisywanie/zapisywanie danych do pliku\n",
    "Metoda `write.save()` służy do zapisywania danych w różnych formatach, takich jak CSV, JSVON, Parquet i inne. "
   ]
  },
  {
   "cell_type": "code",
   "execution_count": 30,
   "id": "48d4f0ee-5bf0-4954-b882-b261bd012fcd",
   "metadata": {},
   "outputs": [
    {
     "ename": "Py4JJavaError",
     "evalue": "An error occurred while calling o200.csv.\n: org.apache.spark.SparkException: Job aborted.\r\n\tat org.apache.spark.sql.errors.QueryExecutionErrors$.jobAbortedError(QueryExecutionErrors.scala:651)\r\n\tat org.apache.spark.sql.execution.datasources.FileFormatWriter$.write(FileFormatWriter.scala:278)\r\n\tat org.apache.spark.sql.execution.datasources.InsertIntoHadoopFsRelationCommand.run(InsertIntoHadoopFsRelationCommand.scala:186)\r\n\tat org.apache.spark.sql.execution.command.DataWritingCommandExec.sideEffectResult$lzycompute(commands.scala:113)\r\n\tat org.apache.spark.sql.execution.command.DataWritingCommandExec.sideEffectResult(commands.scala:111)\r\n\tat org.apache.spark.sql.execution.command.DataWritingCommandExec.executeCollect(commands.scala:125)\r\n\tat org.apache.spark.sql.execution.QueryExecution$$anonfun$eagerlyExecuteCommands$1.$anonfun$applyOrElse$1(QueryExecution.scala:98)\r\n\tat org.apache.spark.sql.execution.SQLExecution$.$anonfun$withNewExecutionId$6(SQLExecution.scala:109)\r\n\tat org.apache.spark.sql.execution.SQLExecution$.withSQLConfPropagated(SQLExecution.scala:169)\r\n\tat org.apache.spark.sql.execution.SQLExecution$.$anonfun$withNewExecutionId$1(SQLExecution.scala:95)\r\n\tat org.apache.spark.sql.SparkSession.withActive(SparkSession.scala:779)\r\n\tat org.apache.spark.sql.execution.SQLExecution$.withNewExecutionId(SQLExecution.scala:64)\r\n\tat org.apache.spark.sql.execution.QueryExecution$$anonfun$eagerlyExecuteCommands$1.applyOrElse(QueryExecution.scala:98)\r\n\tat org.apache.spark.sql.execution.QueryExecution$$anonfun$eagerlyExecuteCommands$1.applyOrElse(QueryExecution.scala:94)\r\n\tat org.apache.spark.sql.catalyst.trees.TreeNode.$anonfun$transformDownWithPruning$1(TreeNode.scala:584)\r\n\tat org.apache.spark.sql.catalyst.trees.CurrentOrigin$.withOrigin(TreeNode.scala:176)\r\n\tat org.apache.spark.sql.catalyst.trees.TreeNode.transformDownWithPruning(TreeNode.scala:584)\r\n\tat org.apache.spark.sql.catalyst.plans.logical.LogicalPlan.org$apache$spark$sql$catalyst$plans$logical$AnalysisHelper$$super$transformDownWithPruning(LogicalPlan.scala:30)\r\n\tat org.apache.spark.sql.catalyst.plans.logical.AnalysisHelper.transformDownWithPruning(AnalysisHelper.scala:267)\r\n\tat org.apache.spark.sql.catalyst.plans.logical.AnalysisHelper.transformDownWithPruning$(AnalysisHelper.scala:263)\r\n\tat org.apache.spark.sql.catalyst.plans.logical.LogicalPlan.transformDownWithPruning(LogicalPlan.scala:30)\r\n\tat org.apache.spark.sql.catalyst.plans.logical.LogicalPlan.transformDownWithPruning(LogicalPlan.scala:30)\r\n\tat org.apache.spark.sql.catalyst.trees.TreeNode.transformDown(TreeNode.scala:560)\r\n\tat org.apache.spark.sql.execution.QueryExecution.eagerlyExecuteCommands(QueryExecution.scala:94)\r\n\tat org.apache.spark.sql.execution.QueryExecution.commandExecuted$lzycompute(QueryExecution.scala:81)\r\n\tat org.apache.spark.sql.execution.QueryExecution.commandExecuted(QueryExecution.scala:79)\r\n\tat org.apache.spark.sql.execution.QueryExecution.assertCommandExecuted(QueryExecution.scala:116)\r\n\tat org.apache.spark.sql.DataFrameWriter.runCommand(DataFrameWriter.scala:860)\r\n\tat org.apache.spark.sql.DataFrameWriter.saveToV1Source(DataFrameWriter.scala:390)\r\n\tat org.apache.spark.sql.DataFrameWriter.saveInternal(DataFrameWriter.scala:363)\r\n\tat org.apache.spark.sql.DataFrameWriter.save(DataFrameWriter.scala:239)\r\n\tat org.apache.spark.sql.DataFrameWriter.csv(DataFrameWriter.scala:851)\r\n\tat java.base/jdk.internal.reflect.NativeMethodAccessorImpl.invoke0(Native Method)\r\n\tat java.base/jdk.internal.reflect.NativeMethodAccessorImpl.invoke(NativeMethodAccessorImpl.java:62)\r\n\tat java.base/jdk.internal.reflect.DelegatingMethodAccessorImpl.invoke(DelegatingMethodAccessorImpl.java:43)\r\n\tat java.base/java.lang.reflect.Method.invoke(Method.java:566)\r\n\tat py4j.reflection.MethodInvoker.invoke(MethodInvoker.java:244)\r\n\tat py4j.reflection.ReflectionEngine.invoke(ReflectionEngine.java:357)\r\n\tat py4j.Gateway.invoke(Gateway.java:282)\r\n\tat py4j.commands.AbstractCommand.invokeMethod(AbstractCommand.java:132)\r\n\tat py4j.commands.CallCommand.execute(CallCommand.java:79)\r\n\tat py4j.ClientServerConnection.waitForCommands(ClientServerConnection.java:182)\r\n\tat py4j.ClientServerConnection.run(ClientServerConnection.java:106)\r\n\tat java.base/java.lang.Thread.run(Thread.java:829)\r\nCaused by: org.apache.spark.SparkException: Job aborted due to stage failure: Task 0 in stage 39.0 failed 1 times, most recent failure: Lost task 0.0 in stage 39.0 (TID 31) (V2 executor driver): java.io.IOException: (null) entry in command string: null chmod 0644 C:\\Users\\Ricoss\\Desktop\\EIWD\\Lab3\\dataset.csv\\_temporary\\0\\_temporary\\attempt_202301031807473392497254353431617_0039_m_000000_31\\part-00000-90902943-63cb-4c8d-8813-7cc7270bd1a0-c000.csv\r\n\tat org.apache.hadoop.util.Shell$ShellCommandExecutor.execute(Shell.java:773)\r\n\tat org.apache.hadoop.util.Shell.execCommand(Shell.java:869)\r\n\tat org.apache.hadoop.util.Shell.execCommand(Shell.java:852)\r\n\tat org.apache.hadoop.fs.RawLocalFileSystem.setPermission(RawLocalFileSystem.java:733)\r\n\tat org.apache.hadoop.fs.RawLocalFileSystem$LocalFSFileOutputStream.<init>(RawLocalFileSystem.java:225)\r\n\tat org.apache.hadoop.fs.RawLocalFileSystem$LocalFSFileOutputStream.<init>(RawLocalFileSystem.java:209)\r\n\tat org.apache.hadoop.fs.RawLocalFileSystem.createOutputStreamWithMode(RawLocalFileSystem.java:307)\r\n\tat org.apache.hadoop.fs.RawLocalFileSystem.create(RawLocalFileSystem.java:296)\r\n\tat org.apache.hadoop.fs.RawLocalFileSystem.create(RawLocalFileSystem.java:328)\r\n\tat org.apache.hadoop.fs.ChecksumFileSystem$ChecksumFSOutputSummer.<init>(ChecksumFileSystem.java:398)\r\n\tat org.apache.hadoop.fs.ChecksumFileSystem.create(ChecksumFileSystem.java:461)\r\n\tat org.apache.hadoop.fs.ChecksumFileSystem.create(ChecksumFileSystem.java:440)\r\n\tat org.apache.hadoop.fs.FileSystem.create(FileSystem.java:911)\r\n\tat org.apache.hadoop.fs.FileSystem.create(FileSystem.java:892)\r\n\tat org.apache.hadoop.fs.FileSystem.create(FileSystem.java:789)\r\n\tat org.apache.spark.sql.execution.datasources.CodecStreams$.createOutputStream(CodecStreams.scala:81)\r\n\tat org.apache.spark.sql.execution.datasources.CodecStreams$.createOutputStreamWriter(CodecStreams.scala:92)\r\n\tat org.apache.spark.sql.execution.datasources.csv.CsvOutputWriter.<init>(CsvOutputWriter.scala:38)\r\n\tat org.apache.spark.sql.execution.datasources.csv.CSVFileFormat$$anon$1.newInstance(CSVFileFormat.scala:84)\r\n\tat org.apache.spark.sql.execution.datasources.SingleDirectoryDataWriter.newOutputWriter(FileFormatDataWriter.scala:161)\r\n\tat org.apache.spark.sql.execution.datasources.SingleDirectoryDataWriter.<init>(FileFormatDataWriter.scala:146)\r\n\tat org.apache.spark.sql.execution.datasources.FileFormatWriter$.executeTask(FileFormatWriter.scala:317)\r\n\tat org.apache.spark.sql.execution.datasources.FileFormatWriter$.$anonfun$write$21(FileFormatWriter.scala:256)\r\n\tat org.apache.spark.scheduler.ResultTask.runTask(ResultTask.scala:90)\r\n\tat org.apache.spark.scheduler.Task.run(Task.scala:136)\r\n\tat org.apache.spark.executor.Executor$TaskRunner.$anonfun$run$3(Executor.scala:548)\r\n\tat org.apache.spark.util.Utils$.tryWithSafeFinally(Utils.scala:1504)\r\n\tat org.apache.spark.executor.Executor$TaskRunner.run(Executor.scala:551)\r\n\tat java.base/java.util.concurrent.ThreadPoolExecutor.runWorker(ThreadPoolExecutor.java:1128)\r\n\tat java.base/java.util.concurrent.ThreadPoolExecutor$Worker.run(ThreadPoolExecutor.java:628)\r\n\tat java.base/java.lang.Thread.run(Thread.java:829)\r\n\nDriver stacktrace:\r\n\tat org.apache.spark.scheduler.DAGScheduler.failJobAndIndependentStages(DAGScheduler.scala:2672)\r\n\tat org.apache.spark.scheduler.DAGScheduler.$anonfun$abortStage$2(DAGScheduler.scala:2608)\r\n\tat org.apache.spark.scheduler.DAGScheduler.$anonfun$abortStage$2$adapted(DAGScheduler.scala:2607)\r\n\tat scala.collection.mutable.ResizableArray.foreach(ResizableArray.scala:62)\r\n\tat scala.collection.mutable.ResizableArray.foreach$(ResizableArray.scala:55)\r\n\tat scala.collection.mutable.ArrayBuffer.foreach(ArrayBuffer.scala:49)\r\n\tat org.apache.spark.scheduler.DAGScheduler.abortStage(DAGScheduler.scala:2607)\r\n\tat org.apache.spark.scheduler.DAGScheduler.$anonfun$handleTaskSetFailed$1(DAGScheduler.scala:1182)\r\n\tat org.apache.spark.scheduler.DAGScheduler.$anonfun$handleTaskSetFailed$1$adapted(DAGScheduler.scala:1182)\r\n\tat scala.Option.foreach(Option.scala:407)\r\n\tat org.apache.spark.scheduler.DAGScheduler.handleTaskSetFailed(DAGScheduler.scala:1182)\r\n\tat org.apache.spark.scheduler.DAGSchedulerEventProcessLoop.doOnReceive(DAGScheduler.scala:2860)\r\n\tat org.apache.spark.scheduler.DAGSchedulerEventProcessLoop.onReceive(DAGScheduler.scala:2802)\r\n\tat org.apache.spark.scheduler.DAGSchedulerEventProcessLoop.onReceive(DAGScheduler.scala:2791)\r\n\tat org.apache.spark.util.EventLoop$$anon$1.run(EventLoop.scala:49)\r\n\tat org.apache.spark.scheduler.DAGScheduler.runJob(DAGScheduler.scala:952)\r\n\tat org.apache.spark.SparkContext.runJob(SparkContext.scala:2228)\r\n\tat org.apache.spark.sql.execution.datasources.FileFormatWriter$.write(FileFormatWriter.scala:245)\r\n\t... 42 more\r\nCaused by: java.io.IOException: (null) entry in command string: null chmod 0644 C:\\Users\\Ricoss\\Desktop\\EIWD\\Lab3\\dataset.csv\\_temporary\\0\\_temporary\\attempt_202301031807473392497254353431617_0039_m_000000_31\\part-00000-90902943-63cb-4c8d-8813-7cc7270bd1a0-c000.csv\r\n\tat org.apache.hadoop.util.Shell$ShellCommandExecutor.execute(Shell.java:773)\r\n\tat org.apache.hadoop.util.Shell.execCommand(Shell.java:869)\r\n\tat org.apache.hadoop.util.Shell.execCommand(Shell.java:852)\r\n\tat org.apache.hadoop.fs.RawLocalFileSystem.setPermission(RawLocalFileSystem.java:733)\r\n\tat org.apache.hadoop.fs.RawLocalFileSystem$LocalFSFileOutputStream.<init>(RawLocalFileSystem.java:225)\r\n\tat org.apache.hadoop.fs.RawLocalFileSystem$LocalFSFileOutputStream.<init>(RawLocalFileSystem.java:209)\r\n\tat org.apache.hadoop.fs.RawLocalFileSystem.createOutputStreamWithMode(RawLocalFileSystem.java:307)\r\n\tat org.apache.hadoop.fs.RawLocalFileSystem.create(RawLocalFileSystem.java:296)\r\n\tat org.apache.hadoop.fs.RawLocalFileSystem.create(RawLocalFileSystem.java:328)\r\n\tat org.apache.hadoop.fs.ChecksumFileSystem$ChecksumFSOutputSummer.<init>(ChecksumFileSystem.java:398)\r\n\tat org.apache.hadoop.fs.ChecksumFileSystem.create(ChecksumFileSystem.java:461)\r\n\tat org.apache.hadoop.fs.ChecksumFileSystem.create(ChecksumFileSystem.java:440)\r\n\tat org.apache.hadoop.fs.FileSystem.create(FileSystem.java:911)\r\n\tat org.apache.hadoop.fs.FileSystem.create(FileSystem.java:892)\r\n\tat org.apache.hadoop.fs.FileSystem.create(FileSystem.java:789)\r\n\tat org.apache.spark.sql.execution.datasources.CodecStreams$.createOutputStream(CodecStreams.scala:81)\r\n\tat org.apache.spark.sql.execution.datasources.CodecStreams$.createOutputStreamWriter(CodecStreams.scala:92)\r\n\tat org.apache.spark.sql.execution.datasources.csv.CsvOutputWriter.<init>(CsvOutputWriter.scala:38)\r\n\tat org.apache.spark.sql.execution.datasources.csv.CSVFileFormat$$anon$1.newInstance(CSVFileFormat.scala:84)\r\n\tat org.apache.spark.sql.execution.datasources.SingleDirectoryDataWriter.newOutputWriter(FileFormatDataWriter.scala:161)\r\n\tat org.apache.spark.sql.execution.datasources.SingleDirectoryDataWriter.<init>(FileFormatDataWriter.scala:146)\r\n\tat org.apache.spark.sql.execution.datasources.FileFormatWriter$.executeTask(FileFormatWriter.scala:317)\r\n\tat org.apache.spark.sql.execution.datasources.FileFormatWriter$.$anonfun$write$21(FileFormatWriter.scala:256)\r\n\tat org.apache.spark.scheduler.ResultTask.runTask(ResultTask.scala:90)\r\n\tat org.apache.spark.scheduler.Task.run(Task.scala:136)\r\n\tat org.apache.spark.executor.Executor$TaskRunner.$anonfun$run$3(Executor.scala:548)\r\n\tat org.apache.spark.util.Utils$.tryWithSafeFinally(Utils.scala:1504)\r\n\tat org.apache.spark.executor.Executor$TaskRunner.run(Executor.scala:551)\r\n\tat java.base/java.util.concurrent.ThreadPoolExecutor.runWorker(ThreadPoolExecutor.java:1128)\r\n\tat java.base/java.util.concurrent.ThreadPoolExecutor$Worker.run(ThreadPoolExecutor.java:628)\r\n\t... 1 more\r\n",
     "output_type": "error",
     "traceback": [
      "\u001b[1;31m---------------------------------------------------------------------------\u001b[0m",
      "\u001b[1;31mPy4JJavaError\u001b[0m                             Traceback (most recent call last)",
      "\u001b[1;32mc:\\Users\\Ricoss\\Desktop\\EIWD\\Lab3\\Lab3.ipynb Cell 63\u001b[0m in \u001b[0;36m<cell line: 2>\u001b[1;34m()\u001b[0m\n\u001b[0;32m      <a href='vscode-notebook-cell:/c%3A/Users/Ricoss/Desktop/EIWD/Lab3/Lab3.ipynb#Y116sZmlsZQ%3D%3D?line=0'>1</a>\u001b[0m \u001b[39m# CSV\u001b[39;00m\n\u001b[1;32m----> <a href='vscode-notebook-cell:/c%3A/Users/Ricoss/Desktop/EIWD/Lab3/Lab3.ipynb#Y116sZmlsZQ%3D%3D?line=1'>2</a>\u001b[0m data\u001b[39m.\u001b[39;49mwrite\u001b[39m.\u001b[39;49mcsv(\u001b[39m'\u001b[39;49m\u001b[39mdataset.csv\u001b[39;49m\u001b[39m'\u001b[39;49m)\n\u001b[0;32m      <a href='vscode-notebook-cell:/c%3A/Users/Ricoss/Desktop/EIWD/Lab3/Lab3.ipynb#Y116sZmlsZQ%3D%3D?line=3'>4</a>\u001b[0m \u001b[39m# JSON\u001b[39;00m\n\u001b[0;32m      <a href='vscode-notebook-cell:/c%3A/Users/Ricoss/Desktop/EIWD/Lab3/Lab3.ipynb#Y116sZmlsZQ%3D%3D?line=4'>5</a>\u001b[0m data\u001b[39m.\u001b[39mwrite\u001b[39m.\u001b[39msave(\u001b[39m'\u001b[39m\u001b[39mdataset.json\u001b[39m\u001b[39m'\u001b[39m, \u001b[39mformat\u001b[39m\u001b[39m=\u001b[39m\u001b[39m'\u001b[39m\u001b[39mjson\u001b[39m\u001b[39m'\u001b[39m)\n",
      "File \u001b[1;32mc:\\Users\\Ricoss\\anaconda3\\lib\\site-packages\\pyspark\\sql\\readwriter.py:1240\u001b[0m, in \u001b[0;36mDataFrameWriter.csv\u001b[1;34m(self, path, mode, compression, sep, quote, escape, header, nullValue, escapeQuotes, quoteAll, dateFormat, timestampFormat, ignoreLeadingWhiteSpace, ignoreTrailingWhiteSpace, charToEscapeQuoteEscaping, encoding, emptyValue, lineSep)\u001b[0m\n\u001b[0;32m   1221\u001b[0m \u001b[39mself\u001b[39m\u001b[39m.\u001b[39mmode(mode)\n\u001b[0;32m   1222\u001b[0m \u001b[39mself\u001b[39m\u001b[39m.\u001b[39m_set_opts(\n\u001b[0;32m   1223\u001b[0m     compression\u001b[39m=\u001b[39mcompression,\n\u001b[0;32m   1224\u001b[0m     sep\u001b[39m=\u001b[39msep,\n\u001b[1;32m   (...)\u001b[0m\n\u001b[0;32m   1238\u001b[0m     lineSep\u001b[39m=\u001b[39mlineSep,\n\u001b[0;32m   1239\u001b[0m )\n\u001b[1;32m-> 1240\u001b[0m \u001b[39mself\u001b[39;49m\u001b[39m.\u001b[39;49m_jwrite\u001b[39m.\u001b[39;49mcsv(path)\n",
      "File \u001b[1;32mc:\\Users\\Ricoss\\anaconda3\\lib\\site-packages\\py4j\\java_gateway.py:1321\u001b[0m, in \u001b[0;36mJavaMember.__call__\u001b[1;34m(self, *args)\u001b[0m\n\u001b[0;32m   1315\u001b[0m command \u001b[39m=\u001b[39m proto\u001b[39m.\u001b[39mCALL_COMMAND_NAME \u001b[39m+\u001b[39m\\\n\u001b[0;32m   1316\u001b[0m     \u001b[39mself\u001b[39m\u001b[39m.\u001b[39mcommand_header \u001b[39m+\u001b[39m\\\n\u001b[0;32m   1317\u001b[0m     args_command \u001b[39m+\u001b[39m\\\n\u001b[0;32m   1318\u001b[0m     proto\u001b[39m.\u001b[39mEND_COMMAND_PART\n\u001b[0;32m   1320\u001b[0m answer \u001b[39m=\u001b[39m \u001b[39mself\u001b[39m\u001b[39m.\u001b[39mgateway_client\u001b[39m.\u001b[39msend_command(command)\n\u001b[1;32m-> 1321\u001b[0m return_value \u001b[39m=\u001b[39m get_return_value(\n\u001b[0;32m   1322\u001b[0m     answer, \u001b[39mself\u001b[39;49m\u001b[39m.\u001b[39;49mgateway_client, \u001b[39mself\u001b[39;49m\u001b[39m.\u001b[39;49mtarget_id, \u001b[39mself\u001b[39;49m\u001b[39m.\u001b[39;49mname)\n\u001b[0;32m   1324\u001b[0m \u001b[39mfor\u001b[39;00m temp_arg \u001b[39min\u001b[39;00m temp_args:\n\u001b[0;32m   1325\u001b[0m     temp_arg\u001b[39m.\u001b[39m_detach()\n",
      "File \u001b[1;32mc:\\Users\\Ricoss\\anaconda3\\lib\\site-packages\\pyspark\\sql\\utils.py:190\u001b[0m, in \u001b[0;36mcapture_sql_exception.<locals>.deco\u001b[1;34m(*a, **kw)\u001b[0m\n\u001b[0;32m    188\u001b[0m \u001b[39mdef\u001b[39;00m \u001b[39mdeco\u001b[39m(\u001b[39m*\u001b[39ma: Any, \u001b[39m*\u001b[39m\u001b[39m*\u001b[39mkw: Any) \u001b[39m-\u001b[39m\u001b[39m>\u001b[39m Any:\n\u001b[0;32m    189\u001b[0m     \u001b[39mtry\u001b[39;00m:\n\u001b[1;32m--> 190\u001b[0m         \u001b[39mreturn\u001b[39;00m f(\u001b[39m*\u001b[39ma, \u001b[39m*\u001b[39m\u001b[39m*\u001b[39mkw)\n\u001b[0;32m    191\u001b[0m     \u001b[39mexcept\u001b[39;00m Py4JJavaError \u001b[39mas\u001b[39;00m e:\n\u001b[0;32m    192\u001b[0m         converted \u001b[39m=\u001b[39m convert_exception(e\u001b[39m.\u001b[39mjava_exception)\n",
      "File \u001b[1;32mc:\\Users\\Ricoss\\anaconda3\\lib\\site-packages\\py4j\\protocol.py:326\u001b[0m, in \u001b[0;36mget_return_value\u001b[1;34m(answer, gateway_client, target_id, name)\u001b[0m\n\u001b[0;32m    324\u001b[0m value \u001b[39m=\u001b[39m OUTPUT_CONVERTER[\u001b[39mtype\u001b[39m](answer[\u001b[39m2\u001b[39m:], gateway_client)\n\u001b[0;32m    325\u001b[0m \u001b[39mif\u001b[39;00m answer[\u001b[39m1\u001b[39m] \u001b[39m==\u001b[39m REFERENCE_TYPE:\n\u001b[1;32m--> 326\u001b[0m     \u001b[39mraise\u001b[39;00m Py4JJavaError(\n\u001b[0;32m    327\u001b[0m         \u001b[39m\"\u001b[39m\u001b[39mAn error occurred while calling \u001b[39m\u001b[39m{0}\u001b[39;00m\u001b[39m{1}\u001b[39;00m\u001b[39m{2}\u001b[39;00m\u001b[39m.\u001b[39m\u001b[39m\\n\u001b[39;00m\u001b[39m\"\u001b[39m\u001b[39m.\u001b[39m\n\u001b[0;32m    328\u001b[0m         \u001b[39mformat\u001b[39m(target_id, \u001b[39m\"\u001b[39m\u001b[39m.\u001b[39m\u001b[39m\"\u001b[39m, name), value)\n\u001b[0;32m    329\u001b[0m \u001b[39melse\u001b[39;00m:\n\u001b[0;32m    330\u001b[0m     \u001b[39mraise\u001b[39;00m Py4JError(\n\u001b[0;32m    331\u001b[0m         \u001b[39m\"\u001b[39m\u001b[39mAn error occurred while calling \u001b[39m\u001b[39m{0}\u001b[39;00m\u001b[39m{1}\u001b[39;00m\u001b[39m{2}\u001b[39;00m\u001b[39m. Trace:\u001b[39m\u001b[39m\\n\u001b[39;00m\u001b[39m{3}\u001b[39;00m\u001b[39m\\n\u001b[39;00m\u001b[39m\"\u001b[39m\u001b[39m.\u001b[39m\n\u001b[0;32m    332\u001b[0m         \u001b[39mformat\u001b[39m(target_id, \u001b[39m\"\u001b[39m\u001b[39m.\u001b[39m\u001b[39m\"\u001b[39m, name, value))\n",
      "\u001b[1;31mPy4JJavaError\u001b[0m: An error occurred while calling o200.csv.\n: org.apache.spark.SparkException: Job aborted.\r\n\tat org.apache.spark.sql.errors.QueryExecutionErrors$.jobAbortedError(QueryExecutionErrors.scala:651)\r\n\tat org.apache.spark.sql.execution.datasources.FileFormatWriter$.write(FileFormatWriter.scala:278)\r\n\tat org.apache.spark.sql.execution.datasources.InsertIntoHadoopFsRelationCommand.run(InsertIntoHadoopFsRelationCommand.scala:186)\r\n\tat org.apache.spark.sql.execution.command.DataWritingCommandExec.sideEffectResult$lzycompute(commands.scala:113)\r\n\tat org.apache.spark.sql.execution.command.DataWritingCommandExec.sideEffectResult(commands.scala:111)\r\n\tat org.apache.spark.sql.execution.command.DataWritingCommandExec.executeCollect(commands.scala:125)\r\n\tat org.apache.spark.sql.execution.QueryExecution$$anonfun$eagerlyExecuteCommands$1.$anonfun$applyOrElse$1(QueryExecution.scala:98)\r\n\tat org.apache.spark.sql.execution.SQLExecution$.$anonfun$withNewExecutionId$6(SQLExecution.scala:109)\r\n\tat org.apache.spark.sql.execution.SQLExecution$.withSQLConfPropagated(SQLExecution.scala:169)\r\n\tat org.apache.spark.sql.execution.SQLExecution$.$anonfun$withNewExecutionId$1(SQLExecution.scala:95)\r\n\tat org.apache.spark.sql.SparkSession.withActive(SparkSession.scala:779)\r\n\tat org.apache.spark.sql.execution.SQLExecution$.withNewExecutionId(SQLExecution.scala:64)\r\n\tat org.apache.spark.sql.execution.QueryExecution$$anonfun$eagerlyExecuteCommands$1.applyOrElse(QueryExecution.scala:98)\r\n\tat org.apache.spark.sql.execution.QueryExecution$$anonfun$eagerlyExecuteCommands$1.applyOrElse(QueryExecution.scala:94)\r\n\tat org.apache.spark.sql.catalyst.trees.TreeNode.$anonfun$transformDownWithPruning$1(TreeNode.scala:584)\r\n\tat org.apache.spark.sql.catalyst.trees.CurrentOrigin$.withOrigin(TreeNode.scala:176)\r\n\tat org.apache.spark.sql.catalyst.trees.TreeNode.transformDownWithPruning(TreeNode.scala:584)\r\n\tat org.apache.spark.sql.catalyst.plans.logical.LogicalPlan.org$apache$spark$sql$catalyst$plans$logical$AnalysisHelper$$super$transformDownWithPruning(LogicalPlan.scala:30)\r\n\tat org.apache.spark.sql.catalyst.plans.logical.AnalysisHelper.transformDownWithPruning(AnalysisHelper.scala:267)\r\n\tat org.apache.spark.sql.catalyst.plans.logical.AnalysisHelper.transformDownWithPruning$(AnalysisHelper.scala:263)\r\n\tat org.apache.spark.sql.catalyst.plans.logical.LogicalPlan.transformDownWithPruning(LogicalPlan.scala:30)\r\n\tat org.apache.spark.sql.catalyst.plans.logical.LogicalPlan.transformDownWithPruning(LogicalPlan.scala:30)\r\n\tat org.apache.spark.sql.catalyst.trees.TreeNode.transformDown(TreeNode.scala:560)\r\n\tat org.apache.spark.sql.execution.QueryExecution.eagerlyExecuteCommands(QueryExecution.scala:94)\r\n\tat org.apache.spark.sql.execution.QueryExecution.commandExecuted$lzycompute(QueryExecution.scala:81)\r\n\tat org.apache.spark.sql.execution.QueryExecution.commandExecuted(QueryExecution.scala:79)\r\n\tat org.apache.spark.sql.execution.QueryExecution.assertCommandExecuted(QueryExecution.scala:116)\r\n\tat org.apache.spark.sql.DataFrameWriter.runCommand(DataFrameWriter.scala:860)\r\n\tat org.apache.spark.sql.DataFrameWriter.saveToV1Source(DataFrameWriter.scala:390)\r\n\tat org.apache.spark.sql.DataFrameWriter.saveInternal(DataFrameWriter.scala:363)\r\n\tat org.apache.spark.sql.DataFrameWriter.save(DataFrameWriter.scala:239)\r\n\tat org.apache.spark.sql.DataFrameWriter.csv(DataFrameWriter.scala:851)\r\n\tat java.base/jdk.internal.reflect.NativeMethodAccessorImpl.invoke0(Native Method)\r\n\tat java.base/jdk.internal.reflect.NativeMethodAccessorImpl.invoke(NativeMethodAccessorImpl.java:62)\r\n\tat java.base/jdk.internal.reflect.DelegatingMethodAccessorImpl.invoke(DelegatingMethodAccessorImpl.java:43)\r\n\tat java.base/java.lang.reflect.Method.invoke(Method.java:566)\r\n\tat py4j.reflection.MethodInvoker.invoke(MethodInvoker.java:244)\r\n\tat py4j.reflection.ReflectionEngine.invoke(ReflectionEngine.java:357)\r\n\tat py4j.Gateway.invoke(Gateway.java:282)\r\n\tat py4j.commands.AbstractCommand.invokeMethod(AbstractCommand.java:132)\r\n\tat py4j.commands.CallCommand.execute(CallCommand.java:79)\r\n\tat py4j.ClientServerConnection.waitForCommands(ClientServerConnection.java:182)\r\n\tat py4j.ClientServerConnection.run(ClientServerConnection.java:106)\r\n\tat java.base/java.lang.Thread.run(Thread.java:829)\r\nCaused by: org.apache.spark.SparkException: Job aborted due to stage failure: Task 0 in stage 39.0 failed 1 times, most recent failure: Lost task 0.0 in stage 39.0 (TID 31) (V2 executor driver): java.io.IOException: (null) entry in command string: null chmod 0644 C:\\Users\\Ricoss\\Desktop\\EIWD\\Lab3\\dataset.csv\\_temporary\\0\\_temporary\\attempt_202301031807473392497254353431617_0039_m_000000_31\\part-00000-90902943-63cb-4c8d-8813-7cc7270bd1a0-c000.csv\r\n\tat org.apache.hadoop.util.Shell$ShellCommandExecutor.execute(Shell.java:773)\r\n\tat org.apache.hadoop.util.Shell.execCommand(Shell.java:869)\r\n\tat org.apache.hadoop.util.Shell.execCommand(Shell.java:852)\r\n\tat org.apache.hadoop.fs.RawLocalFileSystem.setPermission(RawLocalFileSystem.java:733)\r\n\tat org.apache.hadoop.fs.RawLocalFileSystem$LocalFSFileOutputStream.<init>(RawLocalFileSystem.java:225)\r\n\tat org.apache.hadoop.fs.RawLocalFileSystem$LocalFSFileOutputStream.<init>(RawLocalFileSystem.java:209)\r\n\tat org.apache.hadoop.fs.RawLocalFileSystem.createOutputStreamWithMode(RawLocalFileSystem.java:307)\r\n\tat org.apache.hadoop.fs.RawLocalFileSystem.create(RawLocalFileSystem.java:296)\r\n\tat org.apache.hadoop.fs.RawLocalFileSystem.create(RawLocalFileSystem.java:328)\r\n\tat org.apache.hadoop.fs.ChecksumFileSystem$ChecksumFSOutputSummer.<init>(ChecksumFileSystem.java:398)\r\n\tat org.apache.hadoop.fs.ChecksumFileSystem.create(ChecksumFileSystem.java:461)\r\n\tat org.apache.hadoop.fs.ChecksumFileSystem.create(ChecksumFileSystem.java:440)\r\n\tat org.apache.hadoop.fs.FileSystem.create(FileSystem.java:911)\r\n\tat org.apache.hadoop.fs.FileSystem.create(FileSystem.java:892)\r\n\tat org.apache.hadoop.fs.FileSystem.create(FileSystem.java:789)\r\n\tat org.apache.spark.sql.execution.datasources.CodecStreams$.createOutputStream(CodecStreams.scala:81)\r\n\tat org.apache.spark.sql.execution.datasources.CodecStreams$.createOutputStreamWriter(CodecStreams.scala:92)\r\n\tat org.apache.spark.sql.execution.datasources.csv.CsvOutputWriter.<init>(CsvOutputWriter.scala:38)\r\n\tat org.apache.spark.sql.execution.datasources.csv.CSVFileFormat$$anon$1.newInstance(CSVFileFormat.scala:84)\r\n\tat org.apache.spark.sql.execution.datasources.SingleDirectoryDataWriter.newOutputWriter(FileFormatDataWriter.scala:161)\r\n\tat org.apache.spark.sql.execution.datasources.SingleDirectoryDataWriter.<init>(FileFormatDataWriter.scala:146)\r\n\tat org.apache.spark.sql.execution.datasources.FileFormatWriter$.executeTask(FileFormatWriter.scala:317)\r\n\tat org.apache.spark.sql.execution.datasources.FileFormatWriter$.$anonfun$write$21(FileFormatWriter.scala:256)\r\n\tat org.apache.spark.scheduler.ResultTask.runTask(ResultTask.scala:90)\r\n\tat org.apache.spark.scheduler.Task.run(Task.scala:136)\r\n\tat org.apache.spark.executor.Executor$TaskRunner.$anonfun$run$3(Executor.scala:548)\r\n\tat org.apache.spark.util.Utils$.tryWithSafeFinally(Utils.scala:1504)\r\n\tat org.apache.spark.executor.Executor$TaskRunner.run(Executor.scala:551)\r\n\tat java.base/java.util.concurrent.ThreadPoolExecutor.runWorker(ThreadPoolExecutor.java:1128)\r\n\tat java.base/java.util.concurrent.ThreadPoolExecutor$Worker.run(ThreadPoolExecutor.java:628)\r\n\tat java.base/java.lang.Thread.run(Thread.java:829)\r\n\nDriver stacktrace:\r\n\tat org.apache.spark.scheduler.DAGScheduler.failJobAndIndependentStages(DAGScheduler.scala:2672)\r\n\tat org.apache.spark.scheduler.DAGScheduler.$anonfun$abortStage$2(DAGScheduler.scala:2608)\r\n\tat org.apache.spark.scheduler.DAGScheduler.$anonfun$abortStage$2$adapted(DAGScheduler.scala:2607)\r\n\tat scala.collection.mutable.ResizableArray.foreach(ResizableArray.scala:62)\r\n\tat scala.collection.mutable.ResizableArray.foreach$(ResizableArray.scala:55)\r\n\tat scala.collection.mutable.ArrayBuffer.foreach(ArrayBuffer.scala:49)\r\n\tat org.apache.spark.scheduler.DAGScheduler.abortStage(DAGScheduler.scala:2607)\r\n\tat org.apache.spark.scheduler.DAGScheduler.$anonfun$handleTaskSetFailed$1(DAGScheduler.scala:1182)\r\n\tat org.apache.spark.scheduler.DAGScheduler.$anonfun$handleTaskSetFailed$1$adapted(DAGScheduler.scala:1182)\r\n\tat scala.Option.foreach(Option.scala:407)\r\n\tat org.apache.spark.scheduler.DAGScheduler.handleTaskSetFailed(DAGScheduler.scala:1182)\r\n\tat org.apache.spark.scheduler.DAGSchedulerEventProcessLoop.doOnReceive(DAGScheduler.scala:2860)\r\n\tat org.apache.spark.scheduler.DAGSchedulerEventProcessLoop.onReceive(DAGScheduler.scala:2802)\r\n\tat org.apache.spark.scheduler.DAGSchedulerEventProcessLoop.onReceive(DAGScheduler.scala:2791)\r\n\tat org.apache.spark.util.EventLoop$$anon$1.run(EventLoop.scala:49)\r\n\tat org.apache.spark.scheduler.DAGScheduler.runJob(DAGScheduler.scala:952)\r\n\tat org.apache.spark.SparkContext.runJob(SparkContext.scala:2228)\r\n\tat org.apache.spark.sql.execution.datasources.FileFormatWriter$.write(FileFormatWriter.scala:245)\r\n\t... 42 more\r\nCaused by: java.io.IOException: (null) entry in command string: null chmod 0644 C:\\Users\\Ricoss\\Desktop\\EIWD\\Lab3\\dataset.csv\\_temporary\\0\\_temporary\\attempt_202301031807473392497254353431617_0039_m_000000_31\\part-00000-90902943-63cb-4c8d-8813-7cc7270bd1a0-c000.csv\r\n\tat org.apache.hadoop.util.Shell$ShellCommandExecutor.execute(Shell.java:773)\r\n\tat org.apache.hadoop.util.Shell.execCommand(Shell.java:869)\r\n\tat org.apache.hadoop.util.Shell.execCommand(Shell.java:852)\r\n\tat org.apache.hadoop.fs.RawLocalFileSystem.setPermission(RawLocalFileSystem.java:733)\r\n\tat org.apache.hadoop.fs.RawLocalFileSystem$LocalFSFileOutputStream.<init>(RawLocalFileSystem.java:225)\r\n\tat org.apache.hadoop.fs.RawLocalFileSystem$LocalFSFileOutputStream.<init>(RawLocalFileSystem.java:209)\r\n\tat org.apache.hadoop.fs.RawLocalFileSystem.createOutputStreamWithMode(RawLocalFileSystem.java:307)\r\n\tat org.apache.hadoop.fs.RawLocalFileSystem.create(RawLocalFileSystem.java:296)\r\n\tat org.apache.hadoop.fs.RawLocalFileSystem.create(RawLocalFileSystem.java:328)\r\n\tat org.apache.hadoop.fs.ChecksumFileSystem$ChecksumFSOutputSummer.<init>(ChecksumFileSystem.java:398)\r\n\tat org.apache.hadoop.fs.ChecksumFileSystem.create(ChecksumFileSystem.java:461)\r\n\tat org.apache.hadoop.fs.ChecksumFileSystem.create(ChecksumFileSystem.java:440)\r\n\tat org.apache.hadoop.fs.FileSystem.create(FileSystem.java:911)\r\n\tat org.apache.hadoop.fs.FileSystem.create(FileSystem.java:892)\r\n\tat org.apache.hadoop.fs.FileSystem.create(FileSystem.java:789)\r\n\tat org.apache.spark.sql.execution.datasources.CodecStreams$.createOutputStream(CodecStreams.scala:81)\r\n\tat org.apache.spark.sql.execution.datasources.CodecStreams$.createOutputStreamWriter(CodecStreams.scala:92)\r\n\tat org.apache.spark.sql.execution.datasources.csv.CsvOutputWriter.<init>(CsvOutputWriter.scala:38)\r\n\tat org.apache.spark.sql.execution.datasources.csv.CSVFileFormat$$anon$1.newInstance(CSVFileFormat.scala:84)\r\n\tat org.apache.spark.sql.execution.datasources.SingleDirectoryDataWriter.newOutputWriter(FileFormatDataWriter.scala:161)\r\n\tat org.apache.spark.sql.execution.datasources.SingleDirectoryDataWriter.<init>(FileFormatDataWriter.scala:146)\r\n\tat org.apache.spark.sql.execution.datasources.FileFormatWriter$.executeTask(FileFormatWriter.scala:317)\r\n\tat org.apache.spark.sql.execution.datasources.FileFormatWriter$.$anonfun$write$21(FileFormatWriter.scala:256)\r\n\tat org.apache.spark.scheduler.ResultTask.runTask(ResultTask.scala:90)\r\n\tat org.apache.spark.scheduler.Task.run(Task.scala:136)\r\n\tat org.apache.spark.executor.Executor$TaskRunner.$anonfun$run$3(Executor.scala:548)\r\n\tat org.apache.spark.util.Utils$.tryWithSafeFinally(Utils.scala:1504)\r\n\tat org.apache.spark.executor.Executor$TaskRunner.run(Executor.scala:551)\r\n\tat java.base/java.util.concurrent.ThreadPoolExecutor.runWorker(ThreadPoolExecutor.java:1128)\r\n\tat java.base/java.util.concurrent.ThreadPoolExecutor$Worker.run(ThreadPoolExecutor.java:628)\r\n\t... 1 more\r\n"
     ]
    }
   ],
   "source": [
    "# CSV\n",
    "data.write.csv('dataset.csv')\n",
    "\n",
    "# JSON\n",
    "data.write.save('dataset.json', format='json')\n",
    "\n",
    "# Parquet\n",
    "data.write.save('dataset.parquet', format='parquet')\n",
    "\n",
    "# Zapisywanie wybranych kolumn\n",
    "\n",
    "# CSV\n",
    "data.select(['location_name','iso3','year','the_total_mean','the_total_lower','the_total_upper'])\\\n",
    "    .write.csv('dataset_1.csv')\n",
    "\n",
    "# JSON\n",
    "data.select(['location_name','iso3','year','the_total_mean','the_total_lower','the_total_upper'])\\\n",
    "    .write.save('dataset_1.json', format='json')\n",
    "\n",
    "# Parquet\n",
    "data.select(['location_name','iso3','year','the_total_mean','the_total_lower','the_total_upper'])\\\n",
    "    .write.save('dataset_1.parquet', format='parquet')"
   ]
  }
 ],
 "metadata": {
  "kernelspec": {
   "display_name": "Python 3 (ipykernel)",
   "language": "python",
   "name": "python3"
  },
  "language_info": {
   "codemirror_mode": {
    "name": "ipython",
    "version": 3
   },
   "file_extension": ".py",
   "mimetype": "text/x-python",
   "name": "python",
   "nbconvert_exporter": "python",
   "pygments_lexer": "ipython3",
   "version": "3.9.12"
  },
  "vscode": {
   "interpreter": {
    "hash": "aa876d834e4e445cda5b4ecb63e0db34dba168bd42ea99f3609005dcb836fe81"
   }
  }
 },
 "nbformat": 4,
 "nbformat_minor": 5
}
